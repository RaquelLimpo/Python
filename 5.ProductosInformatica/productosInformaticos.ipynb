{
 "cells": [
  {
   "cell_type": "markdown",
   "metadata": {},
   "source": [
    "## ProductosInformatica\n",
    "***\n",
    "Dado un fichero de texto con el nombre de unos productos de informática, junto con su categoría y precio, hacer un programa en python, que haga lo siguiente: <br> \n",
    "• Paso 1: Cargar y mostrar un listado con todas categorías que hay en el fichero productosInformaticos.txt.<br>\n",
    "  Las categorías en la lista NO SE deben repetir. \n",
    "• Paso 2: El programa pedirá al usuario la categoría a partir del número dentro del listado el cual quiere seleccionarse. <br>\n",
    "• Paso 3: El programa debe mostrar un listado con el nombre de los productos de la categoría. <br>\n",
    "Al final debe indicar el total de productos y el precio medio de dicho la categoría seleccionada.  <br>\n",
    "La lista de los productos de la categoría debe almacenarse en una lista. <br><br>\n",
    "Métodos obligatorios: <br>\n",
    "• listarCategorias: El método recibe una lista con todas las categorías y las listará como se muestra en las capturas de más adelante.<br>\n",
    "• verificarEleccionCategoria: El método debe encargarse de recibir la cantidad de categorías disponibles y preguntar al usuario que introduzca un número válido y \n",
    "permitido según la cantidad de categorías.  <br>\n",
    "• mostrarProductosCategoria: El método recibirá una lista con todos los productos de dicha categoría y los mostrará por pantalla.<br>"
   ]
  },
  {
   "cell_type": "code",
   "execution_count": 1,
   "metadata": {},
   "outputs": [
    {
     "name": "stdout",
     "output_type": "stream",
     "text": [
      "Categorías disponibles:\n",
      "1.  Almacenamiento\n",
      "2.  Muebles\n",
      "3.  Cables y Adaptadores\n",
      "4.  Computadoras\n",
      "5.  Software\n",
      "6.  Periféricos\n",
      "7.  Accesorios\n",
      "8.  Componentes\n",
      "9.  Redes\n",
      "\n",
      "Productos en la categoría seleccionada:\n",
      "- Router WiFi 6 de doble banda (120.49€)\n",
      "- Switch de red Gigabit de 8 puertos (70.0€)\n",
      "- Router gaming con QoS (180.25€)\n",
      "- Módulo de expansión de almacenamiento NAS (200.75€)\n",
      "- Switch de red PoE+ de 16 puertos (300.0€)\n",
      "- Router mesh WiFi 6 de triple banda (350.25€)\n",
      "- NAS de 4 bahías para almacenamiento en red (600.75€)\n",
      "\n",
      "Total de productos: 7\n",
      "Precio medio: 260.36€\n",
      "\n",
      "Productos en la categoría seleccionada:\n",
      "- Router WiFi 6 de doble banda (120.49€)\n",
      "- Switch de red Gigabit de 8 puertos (70.0€)\n",
      "- Router gaming con QoS (180.25€)\n",
      "- Módulo de expansión de almacenamiento NAS (200.75€)\n",
      "- Switch de red PoE+ de 16 puertos (300.0€)\n",
      "- Router mesh WiFi 6 de triple banda (350.25€)\n",
      "- NAS de 4 bahías para almacenamiento en red (600.75€)\n",
      "\n",
      "Total de productos: 7\n",
      "Precio medio: 260.36€\n"
     ]
    }
   ],
   "source": [
    "from metodosPropios import listarCategorias, verificarEleccionCategoria, mostrarProductosCategoria\n",
    "\n",
    "nombre_fichero = \"productosInformatica.txt\"\n",
    "\n",
    "productos = []\n",
    "with open(nombre_fichero, 'r') as archivo:\n",
    "    for linea in archivo:\n",
    "        nombre, categoria, precio = linea.strip().split(',')\n",
    "        productos.append({'nombre': nombre, 'categoria': categoria, 'precio': float(precio)})\n",
    "categorias = list(set(producto['categoria'] for producto in productos))\n",
    "listarCategorias(categorias)\n",
    "\n",
    "indice_categoria = verificarEleccionCategoria(len(categorias))\n",
    "categoria_seleccionada = categorias[indice_categoria]\n",
    "\n",
    "productos_categoria = [\n",
    "    producto for producto in productos if producto['categoria'] == categoria_seleccionada\n",
    "]\n",
    "mostrarProductosCategoria(productos_categoria)\n",
    "\n"
   ]
  }
 ],
 "metadata": {
  "kernelspec": {
   "display_name": "base",
   "language": "python",
   "name": "python3"
  },
  "language_info": {
   "codemirror_mode": {
    "name": "ipython",
    "version": 3
   },
   "file_extension": ".py",
   "mimetype": "text/x-python",
   "name": "python",
   "nbconvert_exporter": "python",
   "pygments_lexer": "ipython3",
   "version": "3.12.4"
  }
 },
 "nbformat": 4,
 "nbformat_minor": 2
}
